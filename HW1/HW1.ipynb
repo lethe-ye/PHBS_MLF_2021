{
 "cells": [
  {
   "cell_type": "markdown",
   "id": "4578ab2f",
   "metadata": {},
   "source": [
    "# Load dataset"
   ]
  },
  {
   "cell_type": "code",
   "execution_count": 1,
   "id": "c2d2afd5",
   "metadata": {
    "ExecuteTime": {
     "end_time": "2021-09-20T07:07:31.262327Z",
     "start_time": "2021-09-20T07:07:29.056761Z"
    }
   },
   "outputs": [],
   "source": [
    "from scipy.io import arff\n",
    "import pandas as pd\n",
    "import numpy as np"
   ]
  },
  {
   "cell_type": "code",
   "execution_count": 2,
   "id": "7f14c186",
   "metadata": {
    "ExecuteTime": {
     "end_time": "2021-09-20T07:07:31.865473Z",
     "start_time": "2021-09-20T07:07:31.279319Z"
    }
   },
   "outputs": [],
   "source": [
    "data = arff.loadarff('4year.arff')\n",
    "df = pd.DataFrame(data[0])"
   ]
  },
  {
   "cell_type": "code",
   "execution_count": 3,
   "id": "1a6c331b",
   "metadata": {
    "ExecuteTime": {
     "end_time": "2021-09-20T07:07:36.958670Z",
     "start_time": "2021-09-20T07:07:36.937137Z"
    }
   },
   "outputs": [],
   "source": [
    "df['bankruptcy'] = (df['class']==b'1')"
   ]
  },
  {
   "cell_type": "code",
   "execution_count": 4,
   "id": "98c48179",
   "metadata": {
    "ExecuteTime": {
     "end_time": "2021-09-20T07:07:50.365934Z",
     "start_time": "2021-09-20T07:07:50.314378Z"
    }
   },
   "outputs": [
    {
     "data": {
      "text/html": [
       "<div>\n",
       "<style scoped>\n",
       "    .dataframe tbody tr th:only-of-type {\n",
       "        vertical-align: middle;\n",
       "    }\n",
       "\n",
       "    .dataframe tbody tr th {\n",
       "        vertical-align: top;\n",
       "    }\n",
       "\n",
       "    .dataframe thead th {\n",
       "        text-align: right;\n",
       "    }\n",
       "</style>\n",
       "<table border=\"1\" class=\"dataframe\">\n",
       "  <thead>\n",
       "    <tr style=\"text-align: right;\">\n",
       "      <th></th>\n",
       "      <th>Attr1</th>\n",
       "      <th>Attr2</th>\n",
       "      <th>Attr3</th>\n",
       "      <th>Attr4</th>\n",
       "      <th>Attr5</th>\n",
       "      <th>Attr6</th>\n",
       "      <th>Attr7</th>\n",
       "      <th>Attr8</th>\n",
       "      <th>Attr9</th>\n",
       "      <th>Attr10</th>\n",
       "      <th>...</th>\n",
       "      <th>Attr57</th>\n",
       "      <th>Attr58</th>\n",
       "      <th>Attr59</th>\n",
       "      <th>Attr60</th>\n",
       "      <th>Attr61</th>\n",
       "      <th>Attr62</th>\n",
       "      <th>Attr63</th>\n",
       "      <th>Attr64</th>\n",
       "      <th>class</th>\n",
       "      <th>bankruptcy</th>\n",
       "    </tr>\n",
       "  </thead>\n",
       "  <tbody>\n",
       "    <tr>\n",
       "      <th>0</th>\n",
       "      <td>0.159290</td>\n",
       "      <td>0.46240</td>\n",
       "      <td>0.07773</td>\n",
       "      <td>1.1683</td>\n",
       "      <td>-44.853</td>\n",
       "      <td>0.467020</td>\n",
       "      <td>0.189480</td>\n",
       "      <td>0.82895</td>\n",
       "      <td>1.1223</td>\n",
       "      <td>0.38330</td>\n",
       "      <td>...</td>\n",
       "      <td>0.41557</td>\n",
       "      <td>0.89101</td>\n",
       "      <td>0.001422</td>\n",
       "      <td>7.7928</td>\n",
       "      <td>4.9914</td>\n",
       "      <td>119.810</td>\n",
       "      <td>3.0465</td>\n",
       "      <td>3.0560</td>\n",
       "      <td>b'0'</td>\n",
       "      <td>False</td>\n",
       "    </tr>\n",
       "    <tr>\n",
       "      <th>1</th>\n",
       "      <td>-0.127430</td>\n",
       "      <td>0.46243</td>\n",
       "      <td>0.26917</td>\n",
       "      <td>1.7517</td>\n",
       "      <td>7.597</td>\n",
       "      <td>0.000925</td>\n",
       "      <td>-0.127430</td>\n",
       "      <td>1.16250</td>\n",
       "      <td>1.2944</td>\n",
       "      <td>0.53757</td>\n",
       "      <td>...</td>\n",
       "      <td>-0.23704</td>\n",
       "      <td>1.06250</td>\n",
       "      <td>0.150410</td>\n",
       "      <td>5.4327</td>\n",
       "      <td>3.4629</td>\n",
       "      <td>100.970</td>\n",
       "      <td>3.6150</td>\n",
       "      <td>3.4725</td>\n",
       "      <td>b'0'</td>\n",
       "      <td>False</td>\n",
       "    </tr>\n",
       "    <tr>\n",
       "      <th>2</th>\n",
       "      <td>0.070488</td>\n",
       "      <td>0.23570</td>\n",
       "      <td>0.52781</td>\n",
       "      <td>3.2393</td>\n",
       "      <td>125.680</td>\n",
       "      <td>0.163670</td>\n",
       "      <td>0.086895</td>\n",
       "      <td>2.87180</td>\n",
       "      <td>1.0574</td>\n",
       "      <td>0.67689</td>\n",
       "      <td>...</td>\n",
       "      <td>0.10413</td>\n",
       "      <td>0.94571</td>\n",
       "      <td>0.000000</td>\n",
       "      <td>7.1070</td>\n",
       "      <td>3.3808</td>\n",
       "      <td>76.076</td>\n",
       "      <td>4.7978</td>\n",
       "      <td>4.7818</td>\n",
       "      <td>b'0'</td>\n",
       "      <td>False</td>\n",
       "    </tr>\n",
       "    <tr>\n",
       "      <th>3</th>\n",
       "      <td>0.136760</td>\n",
       "      <td>0.40538</td>\n",
       "      <td>0.31543</td>\n",
       "      <td>1.8705</td>\n",
       "      <td>19.115</td>\n",
       "      <td>0.504970</td>\n",
       "      <td>0.136760</td>\n",
       "      <td>1.45390</td>\n",
       "      <td>1.1144</td>\n",
       "      <td>0.58938</td>\n",
       "      <td>...</td>\n",
       "      <td>0.23203</td>\n",
       "      <td>0.89737</td>\n",
       "      <td>0.073024</td>\n",
       "      <td>6.1384</td>\n",
       "      <td>4.2241</td>\n",
       "      <td>88.299</td>\n",
       "      <td>4.1337</td>\n",
       "      <td>4.6484</td>\n",
       "      <td>b'0'</td>\n",
       "      <td>False</td>\n",
       "    </tr>\n",
       "    <tr>\n",
       "      <th>4</th>\n",
       "      <td>-0.110080</td>\n",
       "      <td>0.69793</td>\n",
       "      <td>0.18878</td>\n",
       "      <td>1.2713</td>\n",
       "      <td>-15.344</td>\n",
       "      <td>0.000000</td>\n",
       "      <td>-0.110080</td>\n",
       "      <td>0.43282</td>\n",
       "      <td>1.7350</td>\n",
       "      <td>0.30207</td>\n",
       "      <td>...</td>\n",
       "      <td>-0.36440</td>\n",
       "      <td>0.57153</td>\n",
       "      <td>0.000000</td>\n",
       "      <td>18.8010</td>\n",
       "      <td>2.7925</td>\n",
       "      <td>146.390</td>\n",
       "      <td>2.4934</td>\n",
       "      <td>15.0360</td>\n",
       "      <td>b'0'</td>\n",
       "      <td>False</td>\n",
       "    </tr>\n",
       "  </tbody>\n",
       "</table>\n",
       "<p>5 rows × 66 columns</p>\n",
       "</div>"
      ],
      "text/plain": [
       "      Attr1    Attr2    Attr3   Attr4    Attr5     Attr6     Attr7    Attr8  \\\n",
       "0  0.159290  0.46240  0.07773  1.1683  -44.853  0.467020  0.189480  0.82895   \n",
       "1 -0.127430  0.46243  0.26917  1.7517    7.597  0.000925 -0.127430  1.16250   \n",
       "2  0.070488  0.23570  0.52781  3.2393  125.680  0.163670  0.086895  2.87180   \n",
       "3  0.136760  0.40538  0.31543  1.8705   19.115  0.504970  0.136760  1.45390   \n",
       "4 -0.110080  0.69793  0.18878  1.2713  -15.344  0.000000 -0.110080  0.43282   \n",
       "\n",
       "    Attr9   Attr10  ...   Attr57   Attr58    Attr59   Attr60  Attr61   Attr62  \\\n",
       "0  1.1223  0.38330  ...  0.41557  0.89101  0.001422   7.7928  4.9914  119.810   \n",
       "1  1.2944  0.53757  ... -0.23704  1.06250  0.150410   5.4327  3.4629  100.970   \n",
       "2  1.0574  0.67689  ...  0.10413  0.94571  0.000000   7.1070  3.3808   76.076   \n",
       "3  1.1144  0.58938  ...  0.23203  0.89737  0.073024   6.1384  4.2241   88.299   \n",
       "4  1.7350  0.30207  ... -0.36440  0.57153  0.000000  18.8010  2.7925  146.390   \n",
       "\n",
       "   Attr63   Attr64  class  bankruptcy  \n",
       "0  3.0465   3.0560   b'0'       False  \n",
       "1  3.6150   3.4725   b'0'       False  \n",
       "2  4.7978   4.7818   b'0'       False  \n",
       "3  4.1337   4.6484   b'0'       False  \n",
       "4  2.4934  15.0360   b'0'       False  \n",
       "\n",
       "[5 rows x 66 columns]"
      ]
     },
     "execution_count": 4,
     "metadata": {},
     "output_type": "execute_result"
    }
   ],
   "source": [
    "df.head()"
   ]
  },
  {
   "cell_type": "code",
   "execution_count": 5,
   "id": "fee309e0",
   "metadata": {
    "ExecuteTime": {
     "end_time": "2021-09-20T07:08:00.325998Z",
     "start_time": "2021-09-20T07:08:00.163074Z"
    }
   },
   "outputs": [
    {
     "data": {
      "text/html": [
       "<div>\n",
       "<style scoped>\n",
       "    .dataframe tbody tr th:only-of-type {\n",
       "        vertical-align: middle;\n",
       "    }\n",
       "\n",
       "    .dataframe tbody tr th {\n",
       "        vertical-align: top;\n",
       "    }\n",
       "\n",
       "    .dataframe thead th {\n",
       "        text-align: right;\n",
       "    }\n",
       "</style>\n",
       "<table border=\"1\" class=\"dataframe\">\n",
       "  <thead>\n",
       "    <tr style=\"text-align: right;\">\n",
       "      <th></th>\n",
       "      <th>Attr1</th>\n",
       "      <th>Attr2</th>\n",
       "      <th>Attr3</th>\n",
       "      <th>Attr4</th>\n",
       "      <th>Attr5</th>\n",
       "      <th>Attr6</th>\n",
       "      <th>Attr7</th>\n",
       "      <th>Attr8</th>\n",
       "      <th>Attr9</th>\n",
       "      <th>Attr10</th>\n",
       "      <th>...</th>\n",
       "      <th>Attr55</th>\n",
       "      <th>Attr56</th>\n",
       "      <th>Attr57</th>\n",
       "      <th>Attr58</th>\n",
       "      <th>Attr59</th>\n",
       "      <th>Attr60</th>\n",
       "      <th>Attr61</th>\n",
       "      <th>Attr62</th>\n",
       "      <th>Attr63</th>\n",
       "      <th>Attr64</th>\n",
       "    </tr>\n",
       "  </thead>\n",
       "  <tbody>\n",
       "    <tr>\n",
       "      <th>count</th>\n",
       "      <td>9791.000000</td>\n",
       "      <td>9791.000000</td>\n",
       "      <td>9791.000000</td>\n",
       "      <td>9749.000000</td>\n",
       "      <td>9.771000e+03</td>\n",
       "      <td>9791.000000</td>\n",
       "      <td>9791.000000</td>\n",
       "      <td>9773.000000</td>\n",
       "      <td>9792.000000</td>\n",
       "      <td>9791.000000</td>\n",
       "      <td>...</td>\n",
       "      <td>9.792000e+03</td>\n",
       "      <td>9771.000000</td>\n",
       "      <td>9791.000000</td>\n",
       "      <td>9776.000000</td>\n",
       "      <td>9791.000000</td>\n",
       "      <td>9178.000000</td>\n",
       "      <td>9760.000000</td>\n",
       "      <td>9.771000e+03</td>\n",
       "      <td>9749.000000</td>\n",
       "      <td>9561.000000</td>\n",
       "    </tr>\n",
       "    <tr>\n",
       "      <th>mean</th>\n",
       "      <td>0.043019</td>\n",
       "      <td>0.596404</td>\n",
       "      <td>0.130959</td>\n",
       "      <td>8.136600</td>\n",
       "      <td>6.465164e+01</td>\n",
       "      <td>-0.059273</td>\n",
       "      <td>0.059446</td>\n",
       "      <td>19.884016</td>\n",
       "      <td>1.882296</td>\n",
       "      <td>0.389040</td>\n",
       "      <td>...</td>\n",
       "      <td>7.686330e+03</td>\n",
       "      <td>-0.992263</td>\n",
       "      <td>0.035022</td>\n",
       "      <td>1.133287</td>\n",
       "      <td>0.856053</td>\n",
       "      <td>118.156064</td>\n",
       "      <td>25.194430</td>\n",
       "      <td>2.015157e+03</td>\n",
       "      <td>8.660813</td>\n",
       "      <td>35.949619</td>\n",
       "    </tr>\n",
       "    <tr>\n",
       "      <th>std</th>\n",
       "      <td>0.359321</td>\n",
       "      <td>4.587122</td>\n",
       "      <td>4.559074</td>\n",
       "      <td>290.647281</td>\n",
       "      <td>1.475939e+04</td>\n",
       "      <td>6.812754</td>\n",
       "      <td>0.533344</td>\n",
       "      <td>698.697015</td>\n",
       "      <td>17.674650</td>\n",
       "      <td>4.590299</td>\n",
       "      <td>...</td>\n",
       "      <td>7.605261e+04</td>\n",
       "      <td>77.007971</td>\n",
       "      <td>8.945365</td>\n",
       "      <td>8.038201</td>\n",
       "      <td>26.393305</td>\n",
       "      <td>3230.316692</td>\n",
       "      <td>1099.260821</td>\n",
       "      <td>1.171461e+05</td>\n",
       "      <td>60.838202</td>\n",
       "      <td>483.318623</td>\n",
       "    </tr>\n",
       "    <tr>\n",
       "      <th>min</th>\n",
       "      <td>-12.458000</td>\n",
       "      <td>0.000000</td>\n",
       "      <td>-445.910000</td>\n",
       "      <td>-0.045319</td>\n",
       "      <td>-3.794600e+05</td>\n",
       "      <td>-486.820000</td>\n",
       "      <td>-12.458000</td>\n",
       "      <td>-1.848200</td>\n",
       "      <td>-0.032371</td>\n",
       "      <td>-445.910000</td>\n",
       "      <td>...</td>\n",
       "      <td>-7.132200e+05</td>\n",
       "      <td>-7522.100000</td>\n",
       "      <td>-597.420000</td>\n",
       "      <td>-30.892000</td>\n",
       "      <td>-284.380000</td>\n",
       "      <td>0.000000</td>\n",
       "      <td>-12.656000</td>\n",
       "      <td>-1.496500e+04</td>\n",
       "      <td>-0.024390</td>\n",
       "      <td>-0.000015</td>\n",
       "    </tr>\n",
       "    <tr>\n",
       "      <th>25%</th>\n",
       "      <td>0.001321</td>\n",
       "      <td>0.263145</td>\n",
       "      <td>0.020377</td>\n",
       "      <td>1.047000</td>\n",
       "      <td>-5.121700e+01</td>\n",
       "      <td>-0.000578</td>\n",
       "      <td>0.003004</td>\n",
       "      <td>0.428300</td>\n",
       "      <td>1.006675</td>\n",
       "      <td>0.294440</td>\n",
       "      <td>...</td>\n",
       "      <td>2.184000e+01</td>\n",
       "      <td>0.003121</td>\n",
       "      <td>0.008768</td>\n",
       "      <td>0.885722</td>\n",
       "      <td>0.000000</td>\n",
       "      <td>5.356325</td>\n",
       "      <td>4.267700</td>\n",
       "      <td>4.323400e+01</td>\n",
       "      <td>2.938800</td>\n",
       "      <td>2.012900</td>\n",
       "    </tr>\n",
       "    <tr>\n",
       "      <th>50%</th>\n",
       "      <td>0.041364</td>\n",
       "      <td>0.467740</td>\n",
       "      <td>0.199290</td>\n",
       "      <td>1.591800</td>\n",
       "      <td>-5.557600e-02</td>\n",
       "      <td>0.000000</td>\n",
       "      <td>0.048820</td>\n",
       "      <td>1.088700</td>\n",
       "      <td>1.161300</td>\n",
       "      <td>0.510450</td>\n",
       "      <td>...</td>\n",
       "      <td>9.503300e+02</td>\n",
       "      <td>0.043679</td>\n",
       "      <td>0.098026</td>\n",
       "      <td>0.958305</td>\n",
       "      <td>0.002129</td>\n",
       "      <td>9.482000</td>\n",
       "      <td>6.283550</td>\n",
       "      <td>7.472900e+01</td>\n",
       "      <td>4.848900</td>\n",
       "      <td>4.041600</td>\n",
       "    </tr>\n",
       "    <tr>\n",
       "      <th>75%</th>\n",
       "      <td>0.111130</td>\n",
       "      <td>0.689255</td>\n",
       "      <td>0.410670</td>\n",
       "      <td>2.880400</td>\n",
       "      <td>5.573200e+01</td>\n",
       "      <td>0.065322</td>\n",
       "      <td>0.126940</td>\n",
       "      <td>2.691000</td>\n",
       "      <td>1.970225</td>\n",
       "      <td>0.714290</td>\n",
       "      <td>...</td>\n",
       "      <td>4.694550e+03</td>\n",
       "      <td>0.117170</td>\n",
       "      <td>0.242680</td>\n",
       "      <td>0.996163</td>\n",
       "      <td>0.211790</td>\n",
       "      <td>19.506000</td>\n",
       "      <td>9.938200</td>\n",
       "      <td>1.233450e+02</td>\n",
       "      <td>8.363800</td>\n",
       "      <td>9.413500</td>\n",
       "    </tr>\n",
       "    <tr>\n",
       "      <th>max</th>\n",
       "      <td>20.482000</td>\n",
       "      <td>446.910000</td>\n",
       "      <td>22.769000</td>\n",
       "      <td>27146.000000</td>\n",
       "      <td>1.034100e+06</td>\n",
       "      <td>322.200000</td>\n",
       "      <td>38.618000</td>\n",
       "      <td>53209.000000</td>\n",
       "      <td>1704.800000</td>\n",
       "      <td>12.602000</td>\n",
       "      <td>...</td>\n",
       "      <td>6.123700e+06</td>\n",
       "      <td>112.020000</td>\n",
       "      <td>226.760000</td>\n",
       "      <td>668.750000</td>\n",
       "      <td>1661.000000</td>\n",
       "      <td>251570.000000</td>\n",
       "      <td>108000.000000</td>\n",
       "      <td>1.077900e+07</td>\n",
       "      <td>5662.400000</td>\n",
       "      <td>21153.000000</td>\n",
       "    </tr>\n",
       "  </tbody>\n",
       "</table>\n",
       "<p>8 rows × 64 columns</p>\n",
       "</div>"
      ],
      "text/plain": [
       "             Attr1        Attr2        Attr3         Attr4         Attr5  \\\n",
       "count  9791.000000  9791.000000  9791.000000   9749.000000  9.771000e+03   \n",
       "mean      0.043019     0.596404     0.130959      8.136600  6.465164e+01   \n",
       "std       0.359321     4.587122     4.559074    290.647281  1.475939e+04   \n",
       "min     -12.458000     0.000000  -445.910000     -0.045319 -3.794600e+05   \n",
       "25%       0.001321     0.263145     0.020377      1.047000 -5.121700e+01   \n",
       "50%       0.041364     0.467740     0.199290      1.591800 -5.557600e-02   \n",
       "75%       0.111130     0.689255     0.410670      2.880400  5.573200e+01   \n",
       "max      20.482000   446.910000    22.769000  27146.000000  1.034100e+06   \n",
       "\n",
       "             Attr6        Attr7         Attr8        Attr9       Attr10  ...  \\\n",
       "count  9791.000000  9791.000000   9773.000000  9792.000000  9791.000000  ...   \n",
       "mean     -0.059273     0.059446     19.884016     1.882296     0.389040  ...   \n",
       "std       6.812754     0.533344    698.697015    17.674650     4.590299  ...   \n",
       "min    -486.820000   -12.458000     -1.848200    -0.032371  -445.910000  ...   \n",
       "25%      -0.000578     0.003004      0.428300     1.006675     0.294440  ...   \n",
       "50%       0.000000     0.048820      1.088700     1.161300     0.510450  ...   \n",
       "75%       0.065322     0.126940      2.691000     1.970225     0.714290  ...   \n",
       "max     322.200000    38.618000  53209.000000  1704.800000    12.602000  ...   \n",
       "\n",
       "             Attr55       Attr56       Attr57       Attr58       Attr59  \\\n",
       "count  9.792000e+03  9771.000000  9791.000000  9776.000000  9791.000000   \n",
       "mean   7.686330e+03    -0.992263     0.035022     1.133287     0.856053   \n",
       "std    7.605261e+04    77.007971     8.945365     8.038201    26.393305   \n",
       "min   -7.132200e+05 -7522.100000  -597.420000   -30.892000  -284.380000   \n",
       "25%    2.184000e+01     0.003121     0.008768     0.885722     0.000000   \n",
       "50%    9.503300e+02     0.043679     0.098026     0.958305     0.002129   \n",
       "75%    4.694550e+03     0.117170     0.242680     0.996163     0.211790   \n",
       "max    6.123700e+06   112.020000   226.760000   668.750000  1661.000000   \n",
       "\n",
       "              Attr60         Attr61        Attr62       Attr63        Attr64  \n",
       "count    9178.000000    9760.000000  9.771000e+03  9749.000000   9561.000000  \n",
       "mean      118.156064      25.194430  2.015157e+03     8.660813     35.949619  \n",
       "std      3230.316692    1099.260821  1.171461e+05    60.838202    483.318623  \n",
       "min         0.000000     -12.656000 -1.496500e+04    -0.024390     -0.000015  \n",
       "25%         5.356325       4.267700  4.323400e+01     2.938800      2.012900  \n",
       "50%         9.482000       6.283550  7.472900e+01     4.848900      4.041600  \n",
       "75%        19.506000       9.938200  1.233450e+02     8.363800      9.413500  \n",
       "max    251570.000000  108000.000000  1.077900e+07  5662.400000  21153.000000  \n",
       "\n",
       "[8 rows x 64 columns]"
      ]
     },
     "execution_count": 5,
     "metadata": {},
     "output_type": "execute_result"
    }
   ],
   "source": [
    "df.describe()"
   ]
  },
  {
   "cell_type": "markdown",
   "id": "9714686b",
   "metadata": {},
   "source": [
    "# Create a new df with 4 features"
   ]
  },
  {
   "cell_type": "code",
   "execution_count": 10,
   "id": "a90f9278",
   "metadata": {
    "ExecuteTime": {
     "end_time": "2021-09-20T07:42:03.758230Z",
     "start_time": "2021-09-20T07:42:03.742318Z"
    }
   },
   "outputs": [],
   "source": [
    "new_features_df = df[['Attr1','Attr2','Attr7','Attr10','bankruptcy']]\n",
    "new_features_df.columns=['X1','X2','X7','X10','Bankruptcy']"
   ]
  },
  {
   "cell_type": "code",
   "execution_count": 11,
   "id": "1d8bd536",
   "metadata": {
    "ExecuteTime": {
     "end_time": "2021-09-20T07:42:05.180025Z",
     "start_time": "2021-09-20T07:42:05.160508Z"
    }
   },
   "outputs": [
    {
     "data": {
      "text/html": [
       "<div>\n",
       "<style scoped>\n",
       "    .dataframe tbody tr th:only-of-type {\n",
       "        vertical-align: middle;\n",
       "    }\n",
       "\n",
       "    .dataframe tbody tr th {\n",
       "        vertical-align: top;\n",
       "    }\n",
       "\n",
       "    .dataframe thead th {\n",
       "        text-align: right;\n",
       "    }\n",
       "</style>\n",
       "<table border=\"1\" class=\"dataframe\">\n",
       "  <thead>\n",
       "    <tr style=\"text-align: right;\">\n",
       "      <th></th>\n",
       "      <th>X1</th>\n",
       "      <th>X2</th>\n",
       "      <th>X7</th>\n",
       "      <th>X10</th>\n",
       "      <th>Bankruptcy</th>\n",
       "    </tr>\n",
       "  </thead>\n",
       "  <tbody>\n",
       "    <tr>\n",
       "      <th>0</th>\n",
       "      <td>0.159290</td>\n",
       "      <td>0.46240</td>\n",
       "      <td>0.189480</td>\n",
       "      <td>0.38330</td>\n",
       "      <td>False</td>\n",
       "    </tr>\n",
       "    <tr>\n",
       "      <th>1</th>\n",
       "      <td>-0.127430</td>\n",
       "      <td>0.46243</td>\n",
       "      <td>-0.127430</td>\n",
       "      <td>0.53757</td>\n",
       "      <td>False</td>\n",
       "    </tr>\n",
       "    <tr>\n",
       "      <th>2</th>\n",
       "      <td>0.070488</td>\n",
       "      <td>0.23570</td>\n",
       "      <td>0.086895</td>\n",
       "      <td>0.67689</td>\n",
       "      <td>False</td>\n",
       "    </tr>\n",
       "    <tr>\n",
       "      <th>3</th>\n",
       "      <td>0.136760</td>\n",
       "      <td>0.40538</td>\n",
       "      <td>0.136760</td>\n",
       "      <td>0.58938</td>\n",
       "      <td>False</td>\n",
       "    </tr>\n",
       "    <tr>\n",
       "      <th>4</th>\n",
       "      <td>-0.110080</td>\n",
       "      <td>0.69793</td>\n",
       "      <td>-0.110080</td>\n",
       "      <td>0.30207</td>\n",
       "      <td>False</td>\n",
       "    </tr>\n",
       "    <tr>\n",
       "      <th>...</th>\n",
       "      <td>...</td>\n",
       "      <td>...</td>\n",
       "      <td>...</td>\n",
       "      <td>...</td>\n",
       "      <td>...</td>\n",
       "    </tr>\n",
       "    <tr>\n",
       "      <th>9787</th>\n",
       "      <td>0.004676</td>\n",
       "      <td>0.54949</td>\n",
       "      <td>0.013002</td>\n",
       "      <td>0.43205</td>\n",
       "      <td>True</td>\n",
       "    </tr>\n",
       "    <tr>\n",
       "      <th>9788</th>\n",
       "      <td>-0.027610</td>\n",
       "      <td>0.60748</td>\n",
       "      <td>-0.027610</td>\n",
       "      <td>0.33509</td>\n",
       "      <td>True</td>\n",
       "    </tr>\n",
       "    <tr>\n",
       "      <th>9789</th>\n",
       "      <td>-0.238290</td>\n",
       "      <td>0.62708</td>\n",
       "      <td>-0.240360</td>\n",
       "      <td>0.17760</td>\n",
       "      <td>True</td>\n",
       "    </tr>\n",
       "    <tr>\n",
       "      <th>9790</th>\n",
       "      <td>0.097188</td>\n",
       "      <td>0.75300</td>\n",
       "      <td>0.104280</td>\n",
       "      <td>0.24700</td>\n",
       "      <td>True</td>\n",
       "    </tr>\n",
       "    <tr>\n",
       "      <th>9791</th>\n",
       "      <td>0.021416</td>\n",
       "      <td>0.48678</td>\n",
       "      <td>0.027253</td>\n",
       "      <td>0.51267</td>\n",
       "      <td>True</td>\n",
       "    </tr>\n",
       "  </tbody>\n",
       "</table>\n",
       "<p>9792 rows × 5 columns</p>\n",
       "</div>"
      ],
      "text/plain": [
       "            X1       X2        X7      X10  Bankruptcy\n",
       "0     0.159290  0.46240  0.189480  0.38330       False\n",
       "1    -0.127430  0.46243 -0.127430  0.53757       False\n",
       "2     0.070488  0.23570  0.086895  0.67689       False\n",
       "3     0.136760  0.40538  0.136760  0.58938       False\n",
       "4    -0.110080  0.69793 -0.110080  0.30207       False\n",
       "...        ...      ...       ...      ...         ...\n",
       "9787  0.004676  0.54949  0.013002  0.43205        True\n",
       "9788 -0.027610  0.60748 -0.027610  0.33509        True\n",
       "9789 -0.238290  0.62708 -0.240360  0.17760        True\n",
       "9790  0.097188  0.75300  0.104280  0.24700        True\n",
       "9791  0.021416  0.48678  0.027253  0.51267        True\n",
       "\n",
       "[9792 rows x 5 columns]"
      ]
     },
     "execution_count": 11,
     "metadata": {},
     "output_type": "execute_result"
    }
   ],
   "source": [
    "new_features_df"
   ]
  },
  {
   "cell_type": "code",
   "execution_count": 13,
   "id": "3487284d",
   "metadata": {
    "ExecuteTime": {
     "end_time": "2021-09-20T07:43:06.974975Z",
     "start_time": "2021-09-20T07:43:06.947429Z"
    }
   },
   "outputs": [
    {
     "data": {
      "text/plain": [
       "X1            1\n",
       "X2            1\n",
       "X7            1\n",
       "X10           1\n",
       "Bankruptcy    0\n",
       "dtype: int64"
      ]
     },
     "execution_count": 13,
     "metadata": {},
     "output_type": "execute_result"
    }
   ],
   "source": [
    "new_features_df.isnull().sum()"
   ]
  },
  {
   "cell_type": "markdown",
   "id": "23e29307",
   "metadata": {},
   "source": [
    "# Fillna with columns' mean"
   ]
  },
  {
   "cell_type": "code",
   "execution_count": 16,
   "id": "c6a0d2b2",
   "metadata": {
    "ExecuteTime": {
     "end_time": "2021-09-20T08:21:28.076467Z",
     "start_time": "2021-09-20T08:21:28.054451Z"
    }
   },
   "outputs": [
    {
     "name": "stderr",
     "output_type": "stream",
     "text": [
      "D:\\Software\\anaconda3\\lib\\site-packages\\pandas\\core\\generic.py:6383: SettingWithCopyWarning: \n",
      "A value is trying to be set on a copy of a slice from a DataFrame\n",
      "\n",
      "See the caveats in the documentation: https://pandas.pydata.org/pandas-docs/stable/user_guide/indexing.html#returning-a-view-versus-a-copy\n",
      "  return self._update_inplace(result)\n"
     ]
    }
   ],
   "source": [
    "new_features_df.fillna(new_features_df.mean(),inplace=True)"
   ]
  },
  {
   "cell_type": "code",
   "execution_count": 17,
   "id": "ba971843",
   "metadata": {
    "ExecuteTime": {
     "end_time": "2021-09-20T08:21:50.790309Z",
     "start_time": "2021-09-20T08:21:50.783307Z"
    }
   },
   "outputs": [
    {
     "data": {
      "text/plain": [
       "X1            0\n",
       "X2            0\n",
       "X7            0\n",
       "X10           0\n",
       "Bankruptcy    0\n",
       "dtype: int64"
      ]
     },
     "execution_count": 17,
     "metadata": {},
     "output_type": "execute_result"
    }
   ],
   "source": [
    "new_features_df.isnull().sum()"
   ]
  },
  {
   "cell_type": "markdown",
   "id": "ed9d2400",
   "metadata": {},
   "source": [
    "# Calculate the mean and std"
   ]
  },
  {
   "cell_type": "markdown",
   "id": "3f026df9",
   "metadata": {},
   "source": [
    "- among all"
   ]
  },
  {
   "cell_type": "code",
   "execution_count": 24,
   "id": "dee63c76",
   "metadata": {
    "ExecuteTime": {
     "end_time": "2021-09-20T08:24:26.089464Z",
     "start_time": "2021-09-20T08:24:26.069410Z"
    }
   },
   "outputs": [
    {
     "name": "stdout",
     "output_type": "stream",
     "text": [
      "The mean of four features:\n",
      " X1     0.043019\n",
      "X2     0.596404\n",
      "X7     0.059446\n",
      "X10    0.389040\n",
      "dtype: float64\n",
      "The std of four features:\n",
      " X1     0.359303\n",
      "X2     4.586887\n",
      "X7     0.533317\n",
      "X10    4.590064\n",
      "dtype: float64\n"
     ]
    }
   ],
   "source": [
    "print(\"The mean of four features:\\n\",new_features_df[['X1','X2','X7','X10']].mean())\n",
    "print(\"The std of four features:\\n\",new_features_df[['X1','X2','X7','X10']].std())"
   ]
  },
  {
   "cell_type": "markdown",
   "id": "90dfba7c",
   "metadata": {},
   "source": [
    "- among bankrupt "
   ]
  },
  {
   "cell_type": "code",
   "execution_count": 25,
   "id": "7a6c6d6f",
   "metadata": {
    "ExecuteTime": {
     "end_time": "2021-09-20T08:26:13.029638Z",
     "start_time": "2021-09-20T08:26:13.008621Z"
    }
   },
   "outputs": [
    {
     "name": "stdout",
     "output_type": "stream",
     "text": [
      "The mean of four features:\n",
      " X1    -0.068873\n",
      "X2     0.878355\n",
      "X7    -0.061538\n",
      "X10    0.103367\n",
      "dtype: float64\n",
      "The std of four features:\n",
      " X1     0.568076\n",
      "X2     1.945596\n",
      "X7     0.568432\n",
      "X10    1.946747\n",
      "dtype: float64\n"
     ]
    }
   ],
   "source": [
    "bankrupt_features_df = new_features_df[new_features_df.Bankruptcy==True]\n",
    "print(\"The mean of four features:\\n\",bankrupt_features_df[['X1','X2','X7','X10']].mean())\n",
    "print(\"The std of four features:\\n\",bankrupt_features_df[['X1','X2','X7','X10']].std())"
   ]
  },
  {
   "cell_type": "markdown",
   "id": "41f404f2",
   "metadata": {},
   "source": [
    "- among still-running"
   ]
  },
  {
   "cell_type": "code",
   "execution_count": 27,
   "id": "8df119b8",
   "metadata": {
    "ExecuteTime": {
     "end_time": "2021-09-20T08:26:13.029638Z",
     "start_time": "2021-09-20T08:26:13.008621Z"
    }
   },
   "outputs": [
    {
     "name": "stdout",
     "output_type": "stream",
     "text": [
      "The mean of four features:\n",
      " X1     0.049231\n",
      "X2     0.580752\n",
      "X7     0.066162\n",
      "X10    0.404899\n",
      "dtype: float64\n",
      "The std of four features:\n",
      " X1     0.343002\n",
      "X2     4.689694\n",
      "X7     0.530524\n",
      "X10    4.692934\n",
      "dtype: float64\n"
     ]
    }
   ],
   "source": [
    "running_features_df = new_features_df[new_features_df.Bankruptcy==False]\n",
    "print(\"The mean of four features:\\n\",running_features_df[['X1','X2','X7','X10']].mean())\n",
    "print(\"The std of four features:\\n\",running_features_df[['X1','X2','X7','X10']].std())"
   ]
  },
  {
   "cell_type": "markdown",
   "id": "7dc1a7c5",
   "metadata": {},
   "source": [
    "# Count the company satisfying the condition"
   ]
  },
  {
   "cell_type": "code",
   "execution_count": 28,
   "id": "9307b9ba",
   "metadata": {
    "ExecuteTime": {
     "end_time": "2021-09-20T08:27:46.763948Z",
     "start_time": "2021-09-20T08:27:46.735726Z"
    }
   },
   "outputs": [
    {
     "data": {
      "text/plain": [
       "X1           -0.316283\n",
       "X2           -3.990484\n",
       "X7           -0.473871\n",
       "X10          -4.201024\n",
       "Bankruptcy   -0.170639\n",
       "dtype: float64"
      ]
     },
     "execution_count": 28,
     "metadata": {},
     "output_type": "execute_result"
    }
   ],
   "source": [
    "mean_minus_std = new_features_df.mean()-new_features_df.std()\n",
    "mean_minus_std"
   ]
  },
  {
   "cell_type": "code",
   "execution_count": 34,
   "id": "80e9b5ec",
   "metadata": {
    "ExecuteTime": {
     "end_time": "2021-09-20T08:29:19.364104Z",
     "start_time": "2021-09-20T08:29:19.350585Z"
    }
   },
   "outputs": [],
   "source": [
    "cdt1 = new_features_df.X1 < mean_minus_std.X1\n",
    "cdt2 = new_features_df.X10 < mean_minus_std.X10"
   ]
  },
  {
   "cell_type": "code",
   "execution_count": 35,
   "id": "8052d3a4",
   "metadata": {
    "ExecuteTime": {
     "end_time": "2021-09-20T08:29:22.295755Z",
     "start_time": "2021-09-20T08:29:22.285187Z"
    }
   },
   "outputs": [],
   "source": [
    "filtered_features_df = new_features_df[cdt1 & cdt2]"
   ]
  },
  {
   "cell_type": "code",
   "execution_count": 37,
   "id": "eb81d657",
   "metadata": {
    "ExecuteTime": {
     "end_time": "2021-09-20T08:30:14.496071Z",
     "start_time": "2021-09-20T08:30:14.485741Z"
    }
   },
   "outputs": [
    {
     "name": "stdout",
     "output_type": "stream",
     "text": [
      "The number of companies that satisfy the condition is: 15\n"
     ]
    }
   ],
   "source": [
    "print(\"The number of companies that satisfy the condition is:\",filtered_features_df.shape[0])"
   ]
  },
  {
   "cell_type": "markdown",
   "id": "636473aa",
   "metadata": {},
   "source": [
    "# Calculate the ratio of bankrupt among above"
   ]
  },
  {
   "cell_type": "code",
   "execution_count": 40,
   "id": "4e4f4d99",
   "metadata": {
    "ExecuteTime": {
     "end_time": "2021-09-20T08:31:32.369404Z",
     "start_time": "2021-09-20T08:31:32.365413Z"
    }
   },
   "outputs": [
    {
     "name": "stdout",
     "output_type": "stream",
     "text": [
      "The ratio of the bankrupted companies among the sub-groups above is:  0.2\n"
     ]
    }
   ],
   "source": [
    "print(\"The ratio of the bankrupted companies among the sub-groups above is: \",filtered_features_df.Bankruptcy.mean())"
   ]
  }
 ],
 "metadata": {
  "kernelspec": {
   "display_name": "Python 3",
   "language": "python",
   "name": "python3"
  },
  "language_info": {
   "codemirror_mode": {
    "name": "ipython",
    "version": 3
   },
   "file_extension": ".py",
   "mimetype": "text/x-python",
   "name": "python",
   "nbconvert_exporter": "python",
   "pygments_lexer": "ipython3",
   "version": "3.8.11"
  },
  "toc": {
   "base_numbering": 1,
   "nav_menu": {},
   "number_sections": true,
   "sideBar": true,
   "skip_h1_title": false,
   "title_cell": "Table of Contents",
   "title_sidebar": "Contents",
   "toc_cell": false,
   "toc_position": {},
   "toc_section_display": true,
   "toc_window_display": false
  },
  "varInspector": {
   "cols": {
    "lenName": 16,
    "lenType": 16,
    "lenVar": 40
   },
   "kernels_config": {
    "python": {
     "delete_cmd_postfix": "",
     "delete_cmd_prefix": "del ",
     "library": "var_list.py",
     "varRefreshCmd": "print(var_dic_list())"
    },
    "r": {
     "delete_cmd_postfix": ") ",
     "delete_cmd_prefix": "rm(",
     "library": "var_list.r",
     "varRefreshCmd": "cat(var_dic_list()) "
    }
   },
   "types_to_exclude": [
    "module",
    "function",
    "builtin_function_or_method",
    "instance",
    "_Feature"
   ],
   "window_display": false
  }
 },
 "nbformat": 4,
 "nbformat_minor": 5
}
